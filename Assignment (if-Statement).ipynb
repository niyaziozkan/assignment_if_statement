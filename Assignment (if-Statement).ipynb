{
 "cells": [
  {
   "cell_type": "code",
   "execution_count": 7,
   "metadata": {},
   "outputs": [
    {
     "name": "stdout",
     "output_type": "stream",
     "text": [
      "Please enter your name: NIYAZI\n",
      "Hello, Niyazi! The password is : 123456\n"
     ]
    }
   ],
   "source": [
    "name = \"niyazi\"\n",
    "password = \"123456\"\n",
    "name_input = input(\"Please enter your name: \").lower()\n",
    "if name_input == name:\n",
    "    print(f\"Hello, {name_input.title()}! The password is : {password}\")\n",
    "else:\n",
    "    print(f\"Hello, {name_input.title()}! See you later.\")"
   ]
  }
 ],
 "metadata": {
  "kernelspec": {
   "display_name": "Python 3",
   "language": "python",
   "name": "python3"
  },
  "language_info": {
   "codemirror_mode": {
    "name": "ipython",
    "version": 3
   },
   "file_extension": ".py",
   "mimetype": "text/x-python",
   "name": "python",
   "nbconvert_exporter": "python",
   "pygments_lexer": "ipython3",
   "version": "3.8.3"
  }
 },
 "nbformat": 4,
 "nbformat_minor": 4
}
